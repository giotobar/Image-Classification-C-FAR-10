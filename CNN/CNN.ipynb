{
 "cells": [
  {
   "cell_type": "markdown",
   "metadata": {},
   "source": [
    "# Convolutional neural networks\n"
   ]
  },
  {
   "cell_type": "code",
   "execution_count": 1,
   "metadata": {},
   "outputs": [],
   "source": [
    "# As usual, a bit of setup\n",
    "\n",
    "import numpy as np\n",
    "import matplotlib.pyplot as plt\n",
    "from nndl.cnn import *\n",
    "from cs231n.data_utils import get_CIFAR10_data\n",
    "from cs231n.gradient_check import eval_numerical_gradient_array, eval_numerical_gradient\n",
    "from nndl.layers import *\n",
    "from nndl.conv_layers import *\n",
    "from cs231n.fast_layers import *\n",
    "from cs231n.solver import Solver\n",
    "\n",
    "%matplotlib inline\n",
    "plt.rcParams['figure.figsize'] = (10.0, 8.0) # set default size of plots\n",
    "plt.rcParams['image.interpolation'] = 'nearest'\n",
    "plt.rcParams['image.cmap'] = 'gray'\n",
    "\n",
    "# for auto-reloading external modules\n",
    "# see http://stackoverflow.com/questions/1907993/autoreload-of-modules-in-ipython\n",
    "%load_ext autoreload\n",
    "%autoreload 2\n",
    "\n",
    "def rel_error(x, y):\n",
    "  \"\"\" returns relative error \"\"\"\n",
    "  return np.max(np.abs(x - y) / (np.maximum(1e-8, np.abs(x) + np.abs(y))))"
   ]
  },
  {
   "cell_type": "code",
   "execution_count": 2,
   "metadata": {},
   "outputs": [
    {
     "name": "stdout",
     "output_type": "stream",
     "text": [
      "X_train: (49000, 3, 32, 32) \n",
      "y_train: (49000,) \n",
      "X_val: (1000, 3, 32, 32) \n",
      "y_val: (1000,) \n",
      "X_test: (1000, 3, 32, 32) \n",
      "y_test: (1000,) \n"
     ]
    }
   ],
   "source": [
    "# Load the (preprocessed) CIFAR10 data.\n",
    "\n",
    "data = get_CIFAR10_data()\n",
    "for k in data.keys():\n",
    "  print('{}: {} '.format(k, data[k].shape))"
   ]
  },
  {
   "cell_type": "markdown",
   "metadata": {},
   "source": [
    "## Three layer CNN\n",
    "\n",
    "In this notebook, you will implement a three layer CNN.  The `ThreeLayerConvNet` class is in `nndl/cnn.py`.  You'll need to modify that code for this section, including the initialization, as well as the calculation of the loss and gradients.  You should be able to use the building blocks you have either earlier coded or that we have provided.  Be sure to use the fast layers.\n",
    "\n",
    "The architecture of this CNN will be:\n",
    "\n",
    "conv - relu - 2x2 max pool - affine - relu - affine - softmax\n",
    "\n",
    "We won't use batchnorm yet.  You've also done enough of these to know how to debug; use the cells below.\n",
    "\n",
    "Note: As we are implementing several layers CNN networks. The gradient error can be expected for the `eval_numerical_gradient()` function. If your `W1 max relative error` and `W2 max relative error` are around or below 0.01, they should be acceptable. Other errors should be less than 1e-5. "
   ]
  },
  {
   "cell_type": "code",
   "execution_count": 10,
   "metadata": {},
   "outputs": [
    {
     "name": "stdout",
     "output_type": "stream",
     "text": [
      "W1 max relative error: 0.039420037567923484\n",
      "W2 max relative error: 0.020615976700389064\n",
      "W3 max relative error: 2.7845281474135017e-05\n",
      "b1 max relative error: 3.843998322672928e-05\n",
      "b2 max relative error: 2.748637278325707e-07\n",
      "b3 max relative error: 1.5669747205555266e-09\n"
     ]
    }
   ],
   "source": [
    "num_inputs = 2\n",
    "input_dim = (3, 16, 16)\n",
    "reg = 0.0\n",
    "num_classes = 10\n",
    "X = np.random.randn(num_inputs, *input_dim)\n",
    "y = np.random.randint(num_classes, size=num_inputs)\n",
    "\n",
    "model = ThreeLayerConvNet(num_filters=3, filter_size=3,\n",
    "                          input_dim=input_dim, hidden_dim=7,\n",
    "                          dtype=np.float64)\n",
    "loss, grads = model.loss(X, y)\n",
    "for param_name in sorted(grads):\n",
    "    f = lambda _: model.loss(X, y)[0]\n",
    "    param_grad_num = eval_numerical_gradient(f, model.params[param_name], verbose=False, h=1e-6)\n",
    "    e = rel_error(param_grad_num, grads[param_name])\n",
    "    print('{} max relative error: {}'.format(param_name, rel_error(param_grad_num, grads[param_name])))"
   ]
  },
  {
   "cell_type": "markdown",
   "metadata": {},
   "source": [
    "### Overfit small dataset\n",
    "\n",
    "To check your CNN implementation, let's overfit a small dataset."
   ]
  },
  {
   "cell_type": "code",
   "execution_count": 13,
   "metadata": {},
   "outputs": [
    {
     "name": "stdout",
     "output_type": "stream",
     "text": [
      "(Iteration 1 / 20) loss: 2.290873\n",
      "(Epoch 0 / 10) train acc: 0.150000; val_acc: 0.110000\n",
      "(Iteration 2 / 20) loss: 3.775794\n",
      "(Epoch 1 / 10) train acc: 0.220000; val_acc: 0.086000\n",
      "(Iteration 3 / 20) loss: 3.041964\n",
      "(Iteration 4 / 20) loss: 3.564049\n",
      "(Epoch 2 / 10) train acc: 0.260000; val_acc: 0.142000\n",
      "(Iteration 5 / 20) loss: 2.683389\n",
      "(Iteration 6 / 20) loss: 2.177885\n",
      "(Epoch 3 / 10) train acc: 0.210000; val_acc: 0.134000\n",
      "(Iteration 7 / 20) loss: 2.247137\n",
      "(Iteration 8 / 20) loss: 2.101200\n",
      "(Epoch 4 / 10) train acc: 0.510000; val_acc: 0.195000\n",
      "(Iteration 9 / 20) loss: 1.879935\n",
      "(Iteration 10 / 20) loss: 2.211597\n",
      "(Epoch 5 / 10) train acc: 0.480000; val_acc: 0.165000\n",
      "(Iteration 11 / 20) loss: 1.465163\n",
      "(Iteration 12 / 20) loss: 1.623372\n",
      "(Epoch 6 / 10) train acc: 0.670000; val_acc: 0.198000\n",
      "(Iteration 13 / 20) loss: 1.264008\n",
      "(Iteration 14 / 20) loss: 1.386674\n",
      "(Epoch 7 / 10) train acc: 0.640000; val_acc: 0.199000\n",
      "(Iteration 15 / 20) loss: 1.026256\n",
      "(Iteration 16 / 20) loss: 1.357912\n",
      "(Epoch 8 / 10) train acc: 0.660000; val_acc: 0.189000\n",
      "(Iteration 17 / 20) loss: 1.144958\n",
      "(Iteration 18 / 20) loss: 0.962989\n",
      "(Epoch 9 / 10) train acc: 0.760000; val_acc: 0.201000\n",
      "(Iteration 19 / 20) loss: 0.752185\n",
      "(Iteration 20 / 20) loss: 0.686416\n",
      "(Epoch 10 / 10) train acc: 0.800000; val_acc: 0.193000\n"
     ]
    }
   ],
   "source": [
    "num_train = 100\n",
    "small_data = {\n",
    "  'X_train': data['X_train'][:num_train],\n",
    "  'y_train': data['y_train'][:num_train],\n",
    "  'X_val': data['X_val'],\n",
    "  'y_val': data['y_val'],\n",
    "}\n",
    "\n",
    "model = ThreeLayerConvNet(weight_scale=1e-2)\n",
    "\n",
    "solver = Solver(model, small_data,\n",
    "                num_epochs=10, batch_size=50,\n",
    "                update_rule='adam',\n",
    "                optim_config={\n",
    "                  'learning_rate': 1e-3,\n",
    "                },\n",
    "                verbose=True, print_every=1)\n",
    "solver.train()"
   ]
  },
  {
   "cell_type": "code",
   "execution_count": 14,
   "metadata": {},
   "outputs": [
    {
     "data": {
      "image/png": "[encoded data removed]",
      "text/plain": [
       "<matplotlib.figure.Figure at 0x1ffdc21c240>"
      ]
     },
     "metadata": {},
     "output_type": "display_data"
    }
   ],
   "source": [
    "plt.subplot(2, 1, 1)\n",
    "plt.plot(solver.loss_history, 'o')\n",
    "plt.xlabel('iteration')\n",
    "plt.ylabel('loss')\n",
    "\n",
    "plt.subplot(2, 1, 2)\n",
    "plt.plot(solver.train_acc_history, '-o')\n",
    "plt.plot(solver.val_acc_history, '-o')\n",
    "plt.legend(['train', 'val'], loc='upper left')\n",
    "plt.xlabel('epoch')\n",
    "plt.ylabel('accuracy')\n",
    "plt.show()"
   ]
  },
  {
   "cell_type": "markdown",
   "metadata": {},
   "source": [
    "## Train the network\n",
    "\n",
    "Now we train the 3 layer CNN on CIFAR-10 and assess its accuracy."
   ]
  },
  {
   "cell_type": "code",
   "execution_count": 15,
   "metadata": {
    "scrolled": false
   },
   "outputs": [
    {
     "name": "stdout",
     "output_type": "stream",
     "text": [
      "(Iteration 1 / 980) loss: 2.304665\n",
      "(Epoch 0 / 1) train acc: 0.103000; val_acc: 0.107000\n",
      "(Iteration 21 / 980) loss: 2.145320\n",
      "(Iteration 41 / 980) loss: 2.134143\n",
      "(Iteration 61 / 980) loss: 1.975841\n",
      "(Iteration 81 / 980) loss: 1.914975\n",
      "(Iteration 101 / 980) loss: 1.705451\n",
      "(Iteration 121 / 980) loss: 1.760840\n",
      "(Iteration 141 / 980) loss: 1.726781\n",
      "(Iteration 161 / 980) loss: 1.885899\n",
      "(Iteration 181 / 980) loss: 1.755213\n",
      "(Iteration 201 / 980) loss: 1.809361\n",
      "(Iteration 221 / 980) loss: 1.606651\n",
      "(Iteration 241 / 980) loss: 1.697492\n",
      "(Iteration 261 / 980) loss: 1.808215\n",
      "(Iteration 281 / 980) loss: 1.627847\n",
      "(Iteration 301 / 980) loss: 1.549126\n",
      "(Iteration 321 / 980) loss: 1.909219\n",
      "(Iteration 341 / 980) loss: 1.737236\n",
      "(Iteration 361 / 980) loss: 1.822673\n",
      "(Iteration 381 / 980) loss: 1.314880\n",
      "(Iteration 401 / 980) loss: 1.763891\n",
      "(Iteration 421 / 980) loss: 1.746560\n",
      "(Iteration 441 / 980) loss: 1.561179\n",
      "(Iteration 461 / 980) loss: 1.924685\n",
      "(Iteration 481 / 980) loss: 1.817573\n",
      "(Iteration 501 / 980) loss: 1.479105\n",
      "(Iteration 521 / 980) loss: 1.667280\n",
      "(Iteration 541 / 980) loss: 1.464472\n",
      "(Iteration 561 / 980) loss: 1.698737\n",
      "(Iteration 581 / 980) loss: 1.374940\n",
      "(Iteration 601 / 980) loss: 1.672384\n",
      "(Iteration 621 / 980) loss: 1.758195\n",
      "(Iteration 641 / 980) loss: 1.502851\n",
      "(Iteration 661 / 980) loss: 1.716450\n",
      "(Iteration 681 / 980) loss: 1.552253\n",
      "(Iteration 701 / 980) loss: 1.745223\n",
      "(Iteration 721 / 980) loss: 1.544938\n",
      "(Iteration 741 / 980) loss: 1.463671\n",
      "(Iteration 761 / 980) loss: 1.398523\n",
      "(Iteration 781 / 980) loss: 1.641086\n",
      "(Iteration 801 / 980) loss: 1.572492\n",
      "(Iteration 821 / 980) loss: 1.457457\n",
      "(Iteration 841 / 980) loss: 1.475915\n",
      "(Iteration 861 / 980) loss: 1.413774\n",
      "(Iteration 881 / 980) loss: 1.776930\n",
      "(Iteration 901 / 980) loss: 1.654818\n",
      "(Iteration 921 / 980) loss: 1.504839\n",
      "(Iteration 941 / 980) loss: 1.386441\n",
      "(Iteration 961 / 980) loss: 1.542502\n",
      "(Epoch 1 / 1) train acc: 0.446000; val_acc: 0.460000\n"
     ]
    }
   ],
   "source": [
    "model = ThreeLayerConvNet(weight_scale=0.001, hidden_dim=500, reg=0.001)\n",
    "\n",
    "solver = Solver(model, data,\n",
    "                num_epochs=1, batch_size=50,\n",
    "                update_rule='adam',\n",
    "                optim_config={\n",
    "                  'learning_rate': 1e-3,\n",
    "                },\n",
    "                verbose=True, print_every=20)\n",
    "solver.train()"
   ]
  },
  {
   "cell_type": "markdown",
   "metadata": {},
   "source": [
    "# Get > 65% validation accuracy on CIFAR-10.\n",
    "\n",
    "In the last part of the assignment, we'll now ask you to train a CNN to get better than 65% validation accuracy on CIFAR-10.\n",
    "\n",
    "### Things you should try:\n",
    "- Filter size: Above we used 7x7; but VGGNet and onwards showed stacks of 3x3 filters are good.  \n",
    "- Number of filters: Above we used 32 filters. Do more or fewer do better?\n",
    "- Batch normalization: Try adding spatial batch normalization after convolution layers and vanilla batch normalization after affine layers. Do your networks train faster?\n",
    "- Network architecture: Can a deeper CNN do better?  Consider these architectures:\n",
    "    - [conv-relu-pool]xN - conv - relu - [affine]xM - [softmax or SVM]\n",
    "    - [conv-relu-pool]XN - [affine]XM - [softmax or SVM]\n",
    "    - [conv-relu-conv-relu-pool]xN - [affine]xM - [softmax or SVM]\n",
    "\n",
    "### Tips for training\n",
    "For each network architecture that you try, you should tune the learning rate and regularization strength. When doing this there are a couple of important things to keep in mind:\n",
    "\n",
    "- If the parameters are working well, you should see improvement within a few hundred iterations\n",
    "- Remember the coarse-to-fine approach for hyperparameter tuning: start by testing a large range of hyperparameters for just a few training iterations to find the combinations of parameters that are working at all.\n",
    "- Once you have found some sets of parameters that seem to work, search more finely around these parameters. You may need to train for more epochs."
   ]
  },
  {
   "cell_type": "code",
   "execution_count": 29,
   "metadata": {
    "scrolled": false
   },
   "outputs": [
    {
     "name": "stdout",
     "output_type": "stream",
     "text": [
      "(Iteration 1 / 4900) loss: 2.315119\n",
      "(Epoch 0 / 10) train acc: 0.141000; val_acc: 0.132000\n",
      "(Iteration 26 / 4900) loss: 1.860523\n",
      "(Iteration 51 / 4900) loss: 1.725967\n",
      "(Iteration 76 / 4900) loss: 1.535890\n",
      "(Iteration 101 / 4900) loss: 1.729975\n",
      "(Iteration 126 / 4900) loss: 1.754515\n",
      "(Iteration 151 / 4900) loss: 1.493061\n",
      "(Iteration 176 / 4900) loss: 1.554079\n",
      "(Iteration 201 / 4900) loss: 1.525561\n",
      "(Iteration 226 / 4900) loss: 1.490484\n",
      "(Iteration 251 / 4900) loss: 1.244307\n",
      "(Iteration 276 / 4900) loss: 1.528998\n",
      "(Iteration 301 / 4900) loss: 1.290839\n",
      "(Iteration 326 / 4900) loss: 1.410053\n",
      "(Iteration 351 / 4900) loss: 1.289125\n",
      "(Iteration 376 / 4900) loss: 1.337157\n",
      "(Iteration 401 / 4900) loss: 1.227503\n",
      "(Iteration 426 / 4900) loss: 1.237765\n",
      "(Iteration 451 / 4900) loss: 1.260533\n",
      "(Iteration 476 / 4900) loss: 1.140445\n",
      "(Epoch 1 / 10) train acc: 0.569000; val_acc: 0.572000\n",
      "(Iteration 501 / 4900) loss: 1.060738\n",
      "(Iteration 526 / 4900) loss: 1.170085\n",
      "(Iteration 551 / 4900) loss: 1.240951\n",
      "(Iteration 576 / 4900) loss: 0.966535\n",
      "(Iteration 601 / 4900) loss: 1.010998\n",
      "(Iteration 626 / 4900) loss: 1.028322\n",
      "(Iteration 651 / 4900) loss: 1.099344\n",
      "(Iteration 676 / 4900) loss: 0.992849\n",
      "(Iteration 701 / 4900) loss: 1.194770\n",
      "(Iteration 726 / 4900) loss: 1.072055\n",
      "(Iteration 751 / 4900) loss: 1.215980\n",
      "(Iteration 776 / 4900) loss: 0.969086\n",
      "(Iteration 801 / 4900) loss: 1.178041\n",
      "(Iteration 826 / 4900) loss: 1.005923\n",
      "(Iteration 851 / 4900) loss: 1.074211\n",
      "(Iteration 876 / 4900) loss: 1.009973\n",
      "(Iteration 901 / 4900) loss: 0.962110\n",
      "(Iteration 926 / 4900) loss: 1.004802\n",
      "(Iteration 951 / 4900) loss: 0.903311\n",
      "(Iteration 976 / 4900) loss: 1.041406\n",
      "(Epoch 2 / 10) train acc: 0.665000; val_acc: 0.614000\n",
      "(Iteration 1001 / 4900) loss: 0.958321\n",
      "(Iteration 1026 / 4900) loss: 1.074909\n",
      "(Iteration 1051 / 4900) loss: 0.977440\n",
      "(Iteration 1076 / 4900) loss: 0.990890\n",
      "(Iteration 1101 / 4900) loss: 0.895725\n",
      "(Iteration 1126 / 4900) loss: 1.207446\n",
      "(Iteration 1151 / 4900) loss: 1.121463\n",
      "(Iteration 1176 / 4900) loss: 1.004380\n",
      "(Iteration 1201 / 4900) loss: 0.815996\n",
      "(Iteration 1226 / 4900) loss: 0.912419\n",
      "(Iteration 1251 / 4900) loss: 0.777572\n",
      "(Iteration 1276 / 4900) loss: 1.245397\n",
      "(Iteration 1301 / 4900) loss: 0.892552\n",
      "(Iteration 1326 / 4900) loss: 1.122850\n",
      "(Iteration 1351 / 4900) loss: 0.951844\n",
      "(Iteration 1376 / 4900) loss: 0.885420\n",
      "(Iteration 1401 / 4900) loss: 0.767763\n",
      "(Iteration 1426 / 4900) loss: 0.758342\n",
      "(Iteration 1451 / 4900) loss: 1.015196\n",
      "(Epoch 3 / 10) train acc: 0.720000; val_acc: 0.667000\n",
      "(Iteration 1476 / 4900) loss: 0.914548\n",
      "(Iteration 1501 / 4900) loss: 0.952304\n",
      "(Iteration 1526 / 4900) loss: 0.861197\n",
      "(Iteration 1551 / 4900) loss: 0.661277\n",
      "(Iteration 1576 / 4900) loss: 1.067528\n",
      "(Iteration 1601 / 4900) loss: 0.812266\n",
      "(Iteration 1626 / 4900) loss: 0.854276\n",
      "(Iteration 1651 / 4900) loss: 0.765595\n",
      "(Iteration 1676 / 4900) loss: 0.924655\n"
     ]
    },
    {
     "ename": "KeyboardInterrupt",
     "evalue": "",
     "output_type": "error",
     "traceback": [
      "\u001b[1;31m---------------------------------------------------------------------------\u001b[0m",
      "\u001b[1;31mKeyboardInterrupt\u001b[0m                         Traceback (most recent call last)",
      "\u001b[1;32m<ipython-input-29-aab5555ffcd6>\u001b[0m in \u001b[0;36m<module>\u001b[1;34m()\u001b[0m\n\u001b[0;32m     19\u001b[0m                 },\n\u001b[0;32m     20\u001b[0m                 verbose=True, print_every=25)\n\u001b[1;32m---> 21\u001b[1;33m \u001b[0msolver\u001b[0m\u001b[1;33m.\u001b[0m\u001b[0mtrain\u001b[0m\u001b[1;33m(\u001b[0m\u001b[1;33m)\u001b[0m\u001b[1;33m\u001b[0m\u001b[0m\n\u001b[0m\u001b[0;32m     22\u001b[0m \u001b[1;33m\u001b[0m\u001b[0m\n\u001b[0;32m     23\u001b[0m \u001b[1;31m# ================================================================ #\u001b[0m\u001b[1;33m\u001b[0m\u001b[1;33m\u001b[0m\u001b[0m\n",
      "\u001b[1;32m~\\Documents\\UCLA\\ece 147\\HW5-code\\cs231n\\solver.py\u001b[0m in \u001b[0;36mtrain\u001b[1;34m(self)\u001b[0m\n\u001b[0;32m    262\u001b[0m \u001b[1;33m\u001b[0m\u001b[0m\n\u001b[0;32m    263\u001b[0m         \u001b[1;32mfor\u001b[0m \u001b[0mt\u001b[0m \u001b[1;32min\u001b[0m \u001b[0mrange\u001b[0m\u001b[1;33m(\u001b[0m\u001b[0mnum_iterations\u001b[0m\u001b[1;33m)\u001b[0m\u001b[1;33m:\u001b[0m\u001b[1;33m\u001b[0m\u001b[0m\n\u001b[1;32m--> 264\u001b[1;33m             \u001b[0mself\u001b[0m\u001b[1;33m.\u001b[0m\u001b[0m_step\u001b[0m\u001b[1;33m(\u001b[0m\u001b[1;33m)\u001b[0m\u001b[1;33m\u001b[0m\u001b[0m\n\u001b[0m\u001b[0;32m    265\u001b[0m \u001b[1;33m\u001b[0m\u001b[0m\n\u001b[0;32m    266\u001b[0m             \u001b[1;31m# Maybe print training loss\u001b[0m\u001b[1;33m\u001b[0m\u001b[1;33m\u001b[0m\u001b[0m\n",
      "\u001b[1;32m~\\Documents\\UCLA\\ece 147\\HW5-code\\cs231n\\solver.py\u001b[0m in \u001b[0;36m_step\u001b[1;34m(self)\u001b[0m\n\u001b[0;32m    185\u001b[0m             \u001b[0mdw\u001b[0m \u001b[1;33m=\u001b[0m \u001b[0mgrads\u001b[0m\u001b[1;33m[\u001b[0m\u001b[0mp\u001b[0m\u001b[1;33m]\u001b[0m\u001b[1;33m\u001b[0m\u001b[0m\n\u001b[0;32m    186\u001b[0m             \u001b[0mconfig\u001b[0m \u001b[1;33m=\u001b[0m \u001b[0mself\u001b[0m\u001b[1;33m.\u001b[0m\u001b[0moptim_configs\u001b[0m\u001b[1;33m[\u001b[0m\u001b[0mp\u001b[0m\u001b[1;33m]\u001b[0m\u001b[1;33m\u001b[0m\u001b[0m\n\u001b[1;32m--> 187\u001b[1;33m             \u001b[0mnext_w\u001b[0m\u001b[1;33m,\u001b[0m \u001b[0mnext_config\u001b[0m \u001b[1;33m=\u001b[0m \u001b[0mself\u001b[0m\u001b[1;33m.\u001b[0m\u001b[0mupdate_rule\u001b[0m\u001b[1;33m(\u001b[0m\u001b[0mw\u001b[0m\u001b[1;33m,\u001b[0m \u001b[0mdw\u001b[0m\u001b[1;33m,\u001b[0m \u001b[0mconfig\u001b[0m\u001b[1;33m)\u001b[0m\u001b[1;33m\u001b[0m\u001b[0m\n\u001b[0m\u001b[0;32m    188\u001b[0m             \u001b[0mself\u001b[0m\u001b[1;33m.\u001b[0m\u001b[0mmodel\u001b[0m\u001b[1;33m.\u001b[0m\u001b[0mparams\u001b[0m\u001b[1;33m[\u001b[0m\u001b[0mp\u001b[0m\u001b[1;33m]\u001b[0m \u001b[1;33m=\u001b[0m \u001b[0mnext_w\u001b[0m\u001b[1;33m\u001b[0m\u001b[0m\n\u001b[0;32m    189\u001b[0m             \u001b[0mself\u001b[0m\u001b[1;33m.\u001b[0m\u001b[0moptim_configs\u001b[0m\u001b[1;33m[\u001b[0m\u001b[0mp\u001b[0m\u001b[1;33m]\u001b[0m \u001b[1;33m=\u001b[0m \u001b[0mnext_config\u001b[0m\u001b[1;33m\u001b[0m\u001b[0m\n",
      "\u001b[1;32m~\\Documents\\UCLA\\ece 147\\HW5-code\\nndl\\optim.py\u001b[0m in \u001b[0;36madam\u001b[1;34m(w, dw, config)\u001b[0m\n\u001b[0;32m    193\u001b[0m     \u001b[0mconfig\u001b[0m\u001b[1;33m[\u001b[0m\u001b[1;34m't'\u001b[0m\u001b[1;33m]\u001b[0m \u001b[1;33m+=\u001b[0m\u001b[1;36m1\u001b[0m\u001b[1;33m\u001b[0m\u001b[0m\n\u001b[0;32m    194\u001b[0m     \u001b[0mv\u001b[0m \u001b[1;33m=\u001b[0m \u001b[0mconfig\u001b[0m\u001b[1;33m[\u001b[0m\u001b[1;34m'beta1'\u001b[0m\u001b[1;33m]\u001b[0m\u001b[1;33m*\u001b[0m\u001b[0mconfig\u001b[0m\u001b[1;33m[\u001b[0m\u001b[1;34m'v'\u001b[0m\u001b[1;33m]\u001b[0m\u001b[1;33m+\u001b[0m \u001b[1;33m(\u001b[0m\u001b[1;36m1\u001b[0m\u001b[1;33m-\u001b[0m\u001b[0mconfig\u001b[0m\u001b[1;33m[\u001b[0m\u001b[1;34m'beta1'\u001b[0m\u001b[1;33m]\u001b[0m\u001b[1;33m)\u001b[0m\u001b[1;33m*\u001b[0m\u001b[0mdw\u001b[0m\u001b[1;33m\u001b[0m\u001b[0m\n\u001b[1;32m--> 195\u001b[1;33m     \u001b[0ma\u001b[0m \u001b[1;33m=\u001b[0m \u001b[0mconfig\u001b[0m\u001b[1;33m[\u001b[0m\u001b[1;34m'beta2'\u001b[0m\u001b[1;33m]\u001b[0m\u001b[1;33m*\u001b[0m\u001b[0mconfig\u001b[0m\u001b[1;33m[\u001b[0m\u001b[1;34m'a'\u001b[0m\u001b[1;33m]\u001b[0m\u001b[1;33m+\u001b[0m\u001b[1;33m(\u001b[0m\u001b[1;36m1\u001b[0m\u001b[1;33m-\u001b[0m\u001b[0mconfig\u001b[0m\u001b[1;33m[\u001b[0m\u001b[1;34m'beta2'\u001b[0m\u001b[1;33m]\u001b[0m\u001b[1;33m)\u001b[0m\u001b[1;33m*\u001b[0m\u001b[0mdw\u001b[0m\u001b[1;33m*\u001b[0m\u001b[0mdw\u001b[0m\u001b[1;33m\u001b[0m\u001b[0m\n\u001b[0m\u001b[0;32m    196\u001b[0m \u001b[1;33m\u001b[0m\u001b[0m\n\u001b[0;32m    197\u001b[0m     \u001b[0mv_corr\u001b[0m \u001b[1;33m=\u001b[0m \u001b[0mv\u001b[0m \u001b[1;33m/\u001b[0m \u001b[1;33m(\u001b[0m\u001b[1;36m1\u001b[0m\u001b[1;33m-\u001b[0m\u001b[0mconfig\u001b[0m\u001b[1;33m[\u001b[0m\u001b[1;34m'beta1'\u001b[0m\u001b[1;33m]\u001b[0m\u001b[1;33m**\u001b[0m\u001b[0mconfig\u001b[0m\u001b[1;33m[\u001b[0m\u001b[1;34m't'\u001b[0m\u001b[1;33m]\u001b[0m\u001b[1;33m)\u001b[0m\u001b[1;33m\u001b[0m\u001b[0m\n",
      "\u001b[1;31mKeyboardInterrupt\u001b[0m: "
     ]
    }
   ],
   "source": [
    "# ================================================================ #\n",
    "# YOUR CODE HERE:\n",
    "#   Implement a CNN to achieve greater than 65% validation accuracy\n",
    "#   on CIFAR-10.\n",
    "# ================================================================ #\n",
    "# self, input_dim=(3, 32, 32), num_filters=32, filter_size=7,\n",
    "#              hidden_dim=100, num_classes=10, weight_scale=1e-3, reg=0.0,\n",
    "#               dtype=np.float32, use_batchnorm=False):\n",
    "\n",
    "\n",
    "\n",
    "model = ThreeLayerConvNet(weight_scale=0.001, hidden_dim=1000, reg=0.001,num_filters =100 ,filter_size =5)\n",
    "\n",
    "solver = Solver(model, data,\n",
    "                num_epochs=10, batch_size=100,\n",
    "                update_rule='adam',\n",
    "                optim_config={\n",
    "                  'learning_rate': 1e-4,\n",
    "                },\n",
    "                verbose=True, print_every=25)\n",
    "solver.train()\n",
    "\n",
    "# ================================================================ #\n",
    "# END YOUR CODE HERE\n",
    "# ================================================================ #\n"
   ]
  },
  {
   "cell_type": "code",
   "execution_count": null,
   "metadata": {},
   "outputs": [],
   "source": []
  }
 ],
 "metadata": {
  "kernelspec": {
   "display_name": "Python 3",
   "language": "python",
   "name": "python3"
  },
  "language_info": {
   "codemirror_mode": {
    "name": "ipython",
    "version": 3
   },
   "file_extension": ".py",
   "mimetype": "text/x-python",
   "name": "python",
   "nbconvert_exporter": "python",
   "pygments_lexer": "ipython3",
   "version": "3.6.4"
  },
  "varInspector": {
   "cols": {
    "lenName": 16,
    "lenType": 16,
    "lenVar": 40
   },
   "kernels_config": {
    "python": {
     "delete_cmd_postfix": "",
     "delete_cmd_prefix": "del ",
     "library": "var_list.py",
     "varRefreshCmd": "print(var_dic_list())"
    },
    "r": {
     "delete_cmd_postfix": ") ",
     "delete_cmd_prefix": "rm(",
     "library": "var_list.r",
     "varRefreshCmd": "cat(var_dic_list()) "
    }
   },
   "types_to_exclude": [
    "module",
    "function",
    "builtin_function_or_method",
    "instance",
    "_Feature"
   ],
   "window_display": true
  }
 },
 "nbformat": 4,
 "nbformat_minor": 2
}
